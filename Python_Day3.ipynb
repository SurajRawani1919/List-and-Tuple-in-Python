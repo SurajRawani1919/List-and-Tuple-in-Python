{
 "cells": [
  {
   "cell_type": "code",
   "execution_count": 3,
   "id": "b1e228ca-f7fa-4ca0-bcda-131cfd2268a9",
   "metadata": {},
   "outputs": [
    {
     "name": "stdout",
     "output_type": "stream",
     "text": [
      "<class 'int'>\n"
     ]
    }
   ],
   "source": [
    "a=4\n",
    "print(type(a))"
   ]
  },
  {
   "cell_type": "code",
   "execution_count": 6,
   "id": "3a386437-92c9-4f97-9a6d-71cadd4c1bfc",
   "metadata": {},
   "outputs": [
    {
     "name": "stdout",
     "output_type": "stream",
     "text": [
      "<class 'float'>\n"
     ]
    }
   ],
   "source": [
    "b=7.8\n",
    "print(type(b))"
   ]
  },
  {
   "cell_type": "code",
   "execution_count": 9,
   "id": "06fda77c-9633-4e2b-9cc9-72ade3a0bff1",
   "metadata": {},
   "outputs": [
    {
     "name": "stdout",
     "output_type": "stream",
     "text": [
      "<class 'complex'>\n"
     ]
    }
   ],
   "source": [
    "c=3+4j\n",
    "print(type(c))"
   ]
  },
  {
   "cell_type": "code",
   "execution_count": 13,
   "id": "25e93353-5853-4924-93ac-7368cdbed0f7",
   "metadata": {},
   "outputs": [
    {
     "name": "stdout",
     "output_type": "stream",
     "text": [
      "<class 'str'>\n",
      "<class 'str'>\n"
     ]
    }
   ],
   "source": [
    "d='jaipur'\n",
    "print(type(d))\n",
    "\n",
    "e='i am good'\n",
    "print(type(e))"
   ]
  },
  {
   "cell_type": "code",
   "execution_count": 15,
   "id": "db1f3bbf-b73f-42fc-b765-5b129e0653ae",
   "metadata": {},
   "outputs": [
    {
     "name": "stdout",
     "output_type": "stream",
     "text": [
      "<class 'list'>\n"
     ]
    }
   ],
   "source": [
    "#list \n",
    "f=[1,2,3,4]\n",
    "print(type(f))"
   ]
  },
  {
   "cell_type": "code",
   "execution_count": 17,
   "id": "18d580c2-c369-47fa-a36d-912e28f6cb1a",
   "metadata": {},
   "outputs": [
    {
     "name": "stdout",
     "output_type": "stream",
     "text": [
      "<class 'tuple'>\n"
     ]
    }
   ],
   "source": [
    "#tuple\n",
    "#Parentheses\n",
    "#comma\n",
    "#Immutable(cannot be chnaged)\n",
    "#fast static(cannot be chnaged)\n",
    "g=(1,2,3,4)\n",
    "print(type(g))"
   ]
  },
  {
   "cell_type": "code",
   "execution_count": 19,
   "id": "5babca99-266a-4b4c-9e83-5256cd523419",
   "metadata": {},
   "outputs": [
    {
     "name": "stdout",
     "output_type": "stream",
     "text": [
      "<class 'list'>\n"
     ]
    }
   ],
   "source": [
    "#quare brackets\n",
    "#comma\n",
    "#we can add any data type in the list \n",
    "#mutable can performn operation \n",
    "#Slow dynamic (can be chnaged)\n",
    "f=[1,2,3.6,4'Suraj']\n",
    "print(type(f))"
   ]
  },
  {
   "cell_type": "code",
   "execution_count": 25,
   "id": "c1c36331-bd7d-4271-bc6a-8ea3f444c723",
   "metadata": {},
   "outputs": [
    {
     "name": "stdout",
     "output_type": "stream",
     "text": [
      "[10, 20, 30, 'Suraj']\n",
      "<class 'list'>\n"
     ]
    }
   ],
   "source": [
    "#operation \n",
    "# append, insert, extend, pop, remove, index, count, sort, reverse\n",
    "list=[10,20,30,'Suraj']\n",
    "print(list)\n",
    "print(type(list))"
   ]
  },
  {
   "cell_type": "code",
   "execution_count": 27,
   "id": "28ad0a97-7b77-40f0-bc55-6359e06fdd9a",
   "metadata": {},
   "outputs": [
    {
     "name": "stdout",
     "output_type": "stream",
     "text": [
      "(10, 20, 30, 'Suraj')\n",
      "<class 'tuple'>\n"
     ]
    }
   ],
   "source": [
    "tuple=(10,20,30,'Suraj')\n",
    "print(tuple)\n",
    "print(type(tuple))"
   ]
  },
  {
   "cell_type": "code",
   "execution_count": 33,
   "id": "ddcd097b-86d4-41bc-b94e-2d3efc377378",
   "metadata": {},
   "outputs": [
    {
     "name": "stdout",
     "output_type": "stream",
     "text": [
      "Suraj\n"
     ]
    }
   ],
   "source": [
    "f=[1,2,3.6,4,'Suraj']\n",
    "print(f[-1])"
   ]
  },
  {
   "cell_type": "code",
   "execution_count": 54,
   "id": "64391fb4-4b35-4a6d-94e8-8443d9e04fee",
   "metadata": {},
   "outputs": [
    {
     "name": "stdout",
     "output_type": "stream",
     "text": [
      "[1, 2, 3.6]\n",
      "[1, 3.6, 'Apple']\n",
      "['Apple', 9.8, 34]\n",
      "[3.6, 'Apple']\n",
      "[]\n",
      "['Jaipur', 34, 'Guava', 10]\n",
      "['Jaipur', 'Guava']\n"
     ]
    }
   ],
   "source": [
    "#slicing and indexing \n",
    "f=[1,2,3.6,4,'Apple',2,3.8,9.8,10,'Guava',34,'Jaipur']\n",
    "print(f[0:3])\n",
    "print(f[0:5:2])\n",
    "print(f[4:11:3])\n",
    "print(f[2:6:2])\n",
    "print(f[-1:-5:1])\n",
    "print(f[-1:-5:-1])\n",
    "print(f[-1:-4:-2])"
   ]
  },
  {
   "cell_type": "code",
   "execution_count": 53,
   "id": "e5224087-1c70-46e6-a069-104801fe5717",
   "metadata": {},
   "outputs": [
    {
     "name": "stdout",
     "output_type": "stream",
     "text": [
      "['Guava', 9.8, 2]\n",
      "[]\n",
      "[]\n",
      "[10, 'Guava', 34]\n",
      "[34, 9.8]\n",
      "[]\n"
     ]
    }
   ],
   "source": [
    "print(f[-3:-8:-2])\n",
    "print(f[-3:-8:2])\n",
    "print(f[-4:-1:-2])\n",
    "print(f[-4:-1:1])\n",
    "print(f[-2:-6:-3])\n",
    "print(f[1:8:-2])"
   ]
  }
 ],
 "metadata": {
  "kernelspec": {
   "display_name": "Python 3 (ipykernel)",
   "language": "python",
   "name": "python3"
  },
  "language_info": {
   "codemirror_mode": {
    "name": "ipython",
    "version": 3
   },
   "file_extension": ".py",
   "mimetype": "text/x-python",
   "name": "python",
   "nbconvert_exporter": "python",
   "pygments_lexer": "ipython3",
   "version": "3.10.11"
  }
 },
 "nbformat": 4,
 "nbformat_minor": 5
}
